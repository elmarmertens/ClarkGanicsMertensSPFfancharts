{
 "cells": [
  {
   "cell_type": "code",
   "execution_count": 1,
   "metadata": {},
   "outputs": [],
   "source": [
    "# Download data files from FRED and SPF\n",
    "# (plain downloads, no file manipulation)"
   ]
  },
  {
   "cell_type": "code",
   "execution_count": 2,
   "metadata": {},
   "outputs": [],
   "source": [
    "import requests"
   ]
  },
  {
   "cell_type": "code",
   "execution_count": 3,
   "metadata": {},
   "outputs": [
    {
     "name": "stdout",
     "output_type": "stream",
     "text": [
      "UNRATE\n",
      "CPIAUCSL\n",
      "DONE (FRED)\n"
     ]
    }
   ],
   "source": [
    "# FRED    \n",
    "    \n",
    "fredid = ['UNRATE', 'CPIAUCSL']    \n",
    "\n",
    "for this in fredid:\n",
    "    print(this)\n",
    "    url = 'https://research.stlouisfed.org/fred2/series/' + this + '/downloaddata/' + this + '.csv'\n",
    "    r = requests.get(url, allow_redirects=True)\n",
    "    open(this + '.csv', 'wb').write(r.content)\n",
    "\n",
    "print('DONE (FRED)')"
   ]
  },
  {
   "cell_type": "code",
   "execution_count": 4,
   "metadata": {
    "scrolled": true
   },
   "outputs": [
    {
     "name": "stdout",
     "output_type": "stream",
     "text": [
      "PGDP\n",
      "RGDP\n",
      "CPI\n",
      "UNEMP\n",
      "DONE (SPF point forecasts)\n"
     ]
    }
   ],
   "source": [
    "# SPF point forecasts\n",
    "\n",
    "    \n",
    "spfid = ['PGDP', 'RGDP', 'CPI', 'UNEMP']    \n",
    "\n",
    "for this in spfid:\n",
    "    print(this)\n",
    "    thisxls='mean_' + this + '_level.xlsx'\n",
    "    url = 'https://www.philadelphiafed.org/-/media/frbp/assets/surveys-and-data/survey-of-professional-forecasters/data-files/files/' + thisxls + '?la=en'\n",
    "    r = requests.get(url, allow_redirects=True)\n",
    "    open(thisxls, 'wb').write(r.content)\n",
    "    \n",
    "print('DONE (SPF point forecasts)')"
   ]
  },
  {
   "cell_type": "code",
   "execution_count": 5,
   "metadata": {},
   "outputs": [
    {
     "name": "stdout",
     "output_type": "stream",
     "text": [
      "RGDP10\n",
      "CPI10\n",
      "CPI5YR\n",
      "DONE (SPF longer-term point forecasts)\n"
     ]
    }
   ],
   "source": [
    "# SPF long-term point forecasts\n",
    "\n",
    "    \n",
    "spfid = ['RGDP10', 'CPI10', 'CPI5YR']    \n",
    "\n",
    "for this in spfid:\n",
    "    print(this)\n",
    "    thisxls='mean_' + this + '_level.xlsx'\n",
    "    url = 'https://www.philadelphiafed.org/-/media/frbp/assets/surveys-and-data/survey-of-professional-forecasters/data-files/files/' + thisxls + '?la=en'\n",
    "    r = requests.get(url, allow_redirects=True)\n",
    "    open(thisxls, 'wb').write(r.content)\n",
    "    \n",
    "print('DONE (SPF longer-term point forecasts)')"
   ]
  },
  {
   "cell_type": "code",
   "execution_count": 6,
   "metadata": {},
   "outputs": [
    {
     "name": "stdout",
     "output_type": "stream",
     "text": [
      "DONE (SPF density forecasts)\n"
     ]
    }
   ],
   "source": [
    "# SPF density forecasts\n",
    "\n",
    "thisxls='prob.xlsx'\n",
    "\n",
    "\n",
    "\n",
    "url = 'https://www.philadelphiafed.org/-/media/frbp/assets/surveys-and-data/survey-of-professional-forecasters/historical-data/' + thisxls + '?la=en'\n",
    "r = requests.get(url, allow_redirects=True)\n",
    "open(thisxls, 'wb').write(r.content)\n",
    "\n",
    "    \n",
    "print('DONE (SPF density forecasts)')    "
   ]
  },
  {
   "cell_type": "code",
   "execution_count": 7,
   "metadata": {},
   "outputs": [],
   "source": [
    "# RTDSM: 1st/2nd/3rd\n",
    "\n",
    "# https://www.philadelphiafed.org/-/media/research-and-data/real-time-center/real-time-data/data-files/files/xlsx/p_first_second_third.xlsx?la=en\n",
    "\n",
    "# rtdsmid = ['p', 'routput']    \n",
    "\n",
    "# for this in rtdsmid:\n",
    "#     print(this)\n",
    "#     thisxls=this + '_first_second_third.xlsx'\n",
    "#     url = 'https://www.philadelphiafed.org/-/media/frbp/assets/surveys-and-data/real-time-data/data-files/xlsx/' + thisxls + '?la=en'\n",
    "#     r = requests.get(url, allow_redirects=True)\n",
    "#     open(thisxls, 'wb').write(r.content)\n",
    "    \n",
    "# print('DONE (RTDSM)')    \n",
    "    \n",
    "    "
   ]
  },
  {
   "cell_type": "code",
   "execution_count": 8,
   "metadata": {},
   "outputs": [
    {
     "name": "stdout",
     "output_type": "stream",
     "text": [
      "ROUTPUTQvQd\n",
      "PQvQd\n",
      "cpiQvMd\n",
      "rucQvMd\n",
      "DONE (RTDSM)\n"
     ]
    }
   ],
   "source": [
    "# RTDMS: quarterly vintage files\n",
    "\n",
    "rtdsmid = ['ROUTPUTQvQd', 'PQvQd', 'cpiQvMd', 'rucQvMd']    \n",
    "\n",
    "for this in rtdsmid:\n",
    "     print(this)\n",
    "     thisxls=this + '.xlsx'\n",
    "     url = 'https://www.philadelphiafed.org/-/media/frbp/assets/surveys-and-data/real-time-data/data-files/xlsx/' + thisxls + '?la=en'\n",
    "     r = requests.get(url, allow_redirects=True)\n",
    "     open(thisxls, 'wb').write(r.content)\n",
    "    \n",
    "print('DONE (RTDSM)')    \n",
    "\n"
   ]
  },
  {
   "cell_type": "code",
   "execution_count": null,
   "metadata": {},
   "outputs": [],
   "source": []
  }
 ],
 "metadata": {
  "kernelspec": {
   "display_name": "Python 3 (ipykernel)",
   "language": "python",
   "name": "python3"
  },
  "language_info": {
   "codemirror_mode": {
    "name": "ipython",
    "version": 3
   },
   "file_extension": ".py",
   "mimetype": "text/x-python",
   "name": "python",
   "nbconvert_exporter": "python",
   "pygments_lexer": "ipython3",
   "version": "3.9.18"
  }
 },
 "nbformat": 4,
 "nbformat_minor": 4
}
